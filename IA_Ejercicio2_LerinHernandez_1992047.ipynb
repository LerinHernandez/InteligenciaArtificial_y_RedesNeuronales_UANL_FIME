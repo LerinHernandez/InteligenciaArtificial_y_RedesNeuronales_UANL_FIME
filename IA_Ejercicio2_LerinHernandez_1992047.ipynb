{
  "nbformat": 4,
  "nbformat_minor": 0,
  "metadata": {
    "colab": {
      "name": " IA_Ejercicio2_LerinHernandez_1992047",
      "provenance": [],
      "collapsed_sections": [],
      "authorship_tag": "ABX9TyM+FfodAlLCkcKZOEZt+iPX",
      "include_colab_link": true
    },
    "kernelspec": {
      "name": "python3",
      "display_name": "Python 3"
    },
    "language_info": {
      "name": "python"
    }
  },
  "cells": [
    {
      "cell_type": "markdown",
      "metadata": {
        "id": "view-in-github",
        "colab_type": "text"
      },
      "source": [
        "<a href=\"https://colab.research.google.com/github/LerinHernandez/InteligenciaArtificial_y_RedesNeuronales_UANL_FIME/blob/main/IA_Ejercicio2_LerinHernandez_1992047.ipynb\" target=\"_parent\"><img src=\"https://colab.research.google.com/assets/colab-badge.svg\" alt=\"Open In Colab\"/></a>"
      ]
    },
    {
      "cell_type": "markdown",
      "source": [
        "**Actividad #2: Ejercicios Básicos de Python.**\n",
        "\n",
        "Nombre del alumno: Lerin Alejandro Hernández Aguero.\n",
        "\n",
        "Matrícula: 1992047.\n",
        "\n",
        "Hora: N1."
      ],
      "metadata": {
        "id": "FVNxmHQTE2-1"
      }
    },
    {
      "cell_type": "code",
      "source": [
        "nombre=input(\"Bienvenido al programa de la actividad #2, primer ejercicio. Ingrese su nombre por favor: \") #No olvides la gramatica y sus reglas para el nombre por favor :), como empezar con mayusculas.\n",
        "nombres_vetados=[\"Ana\", \"Juan\", \"Pedro\"] #Se hace una lista de aquellos valores que sean denegados.\n",
        "\n",
        "if nombre not in nombres_vetados:\n",
        " print(f\"¡Hola Es un placer conocerle :D, {nombre}\")\n",
        "\n",
        "else :\n",
        "  print(f\"No puedo saludarte D:\")"
      ],
      "metadata": {
        "colab": {
          "base_uri": "https://localhost:8080/"
        },
        "id": "upE4fR-rFRu1",
        "outputId": "42d3157f-1d18-4179-b33b-0481a736275e"
      },
      "execution_count": 127,
      "outputs": [
        {
          "output_type": "stream",
          "name": "stdout",
          "text": [
            "Bienvenido al programa de la actividad #2, primer ejercicio. Ingrese su nombre por favor: Marco\n",
            "¡Hola Es un placer conocerle :D, Marco\n"
          ]
        }
      ]
    },
    {
      "cell_type": "code",
      "source": [
        "msg=(\"Bienvenido al programa de la actividad #2, segundo ejercicio. Una lista común que se invierte.\")\n",
        "print(msg)\n",
        "lista=[\"manzana\",\"huevo\",\"zanahoria\",\"pera\",\"croquetas\",\"jabon\"] #De atrás hacia adelante irá.\n",
        "listaInv=lista[::-1] #Al colocar :: no se tendrá una condición sobre en donde acaba sino hasta el inicio mientras que el -1 establece que será listado desde el último valor.\n",
        "print(listaInv)"
      ],
      "metadata": {
        "colab": {
          "base_uri": "https://localhost:8080/"
        },
        "id": "aF7i9SAdR5um",
        "outputId": "6788a4ea-813a-4ebe-8f33-2d91e5117d1c"
      },
      "execution_count": 128,
      "outputs": [
        {
          "output_type": "stream",
          "name": "stdout",
          "text": [
            "Bienvenido al programa de la actividad #2, segundo ejercicio. Una lista común que se invierte.\n",
            "['jabon', 'croquetas', 'pera', 'zanahoria', 'huevo', 'manzana']\n"
          ]
        }
      ]
    },
    {
      "cell_type": "code",
      "source": [
        "msg=(\"Bienvenido al programa de la actividad #2, tercer ejercicio. Una lista rectangular con marco.\")\n",
        "print(msg)\n",
        "lista_string=['''\n",
        "              *****************\n",
        "              *      Hola,    *\n",
        "              *       yo      *\n",
        "              *      estoy    *\n",
        "              *  programando  *\n",
        "              *       :D      *\n",
        "              *****************'''] #Ajustar los * de acuerdo al marco requerido, hacer uso de espacios.\n",
        "lista_string2='\\n' .join([str(sublista)for(sublista)in lista_string]) \n",
        "print(lista_string2)"
      ],
      "metadata": {
        "colab": {
          "base_uri": "https://localhost:8080/"
        },
        "id": "LVjkghGdT1q5",
        "outputId": "2e154b40-fd24-469c-d568-1f16c585b209"
      },
      "execution_count": 129,
      "outputs": [
        {
          "output_type": "stream",
          "name": "stdout",
          "text": [
            "Bienvenido al programa de la actividad #2, tercer ejercicio. Una lista rectangular con marco.\n",
            "\n",
            "              *****************\n",
            "              *      Hola,    *\n",
            "              *       yo      *\n",
            "              *      estoy    *\n",
            "              *  programando  *\n",
            "              *       :D      *\n",
            "              *****************\n"
          ]
        }
      ]
    },
    {
      "cell_type": "code",
      "source": [
        ""
      ],
      "metadata": {
        "id": "ESnQ_TgkkNnf"
      },
      "execution_count": null,
      "outputs": []
    }
  ]
}